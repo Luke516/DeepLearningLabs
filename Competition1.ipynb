{
 "cells": [
  {
   "cell_type": "code",
   "execution_count": 5,
   "metadata": {},
   "outputs": [],
   "source": [
    "import pandas as pd\n",
    "from sklearn.model_selection import train_test_split\n",
    "\n",
    "NUM_PROGRAM = 8\n",
    "programs = []\n",
    "for i in range(1, NUM_PROGRAM+1):\n",
    "    program = pd.read_csv('./datasets/all/Program0%d.csv' % (i))\n",
    "    \n",
    "    #print('Program %d' % (i))\n",
    "    #print('Episodes: %d' % (len(program)))\n",
    "    #print(program.columns)\n",
    "    #print()\n",
    "    \n",
    "    #print(program.loc[:1]['Content'])\n",
    "    #print()\n",
    "    \n",
    "    programs.append(program)\n"
   ]
  },
  {
   "cell_type": "code",
   "execution_count": 8,
   "metadata": {},
   "outputs": [
    {
     "name": "stdout",
     "output_type": "stream",
     "text": [
      "Question\n",
      "Episodes: 500\n",
      "Index(['Question', 'Option0', 'Option1', 'Option2', 'Option3', 'Option4',\n",
      "       'Option5'],\n",
      "      dtype='object')\n",
      "\n",
      "0    媽給你送錢包來啦 來 你看一下是不是這個\\n對 就是這個 你在哪裡找到它的\\n\n",
      "1             古人說三日不讀書 面目可憎 我覺得我最近可能臉色太難看了\\n\n",
      "2                         你說我們做父母的最擔心的就是這個\\n\n",
      "Name: Question, dtype: object\n",
      "\n",
      "0        你看 這是我新買的錢包\n",
      "1    所以想回復我昔日面貌姣好的樣子\n",
      "2      我剛剛聽你媽說你要讀什麼科\n",
      "Name: Option0, dtype: object\n",
      "\n",
      "0     我的錢包不見了啦\n",
      "1    是不是要定期來舉辦\n",
      "2    其他老師又集體叛變\n",
      "Name: Option1, dtype: object\n",
      "\n",
      "0    以後上網咖的錢包在我身上\n",
      "1         各辦理一次才對\n",
      "2        聽起來好好玩天啊\n",
      "Name: Option2, dtype: object\n",
      "\n",
      "0                          什麼有錢包場\n",
      "1                     能夠督促所有的用人機關\n",
      "2    只是小孩自己的興趣不能得到發展 他們的心裡可能也會很悶喔\n",
      "Name: Option3, dtype: object\n",
      "\n",
      "0    早上你爸爸在車上找到的 一定是前天你放學的時候掉在車上了\n",
      "1                   在上次的節目討論中也有提到\n",
      "2                      走到這裡就沒有路了耶\n",
      "Name: Option4, dtype: object\n",
      "\n",
      "0         我為什麼要給你們錢包\n",
      "1           超過九十分貝以上\n",
      "2    每一個科目像是國語數學都很優秀\n",
      "Name: Option5, dtype: object\n",
      "\n"
     ]
    }
   ],
   "source": [
    "questions = pd.read_csv('./datasets/all/Question.csv')\n",
    "\n",
    "print('Question')\n",
    "print('Episodes: %d' % (len(questions)))\n",
    "print(questions.columns)\n",
    "print()\n",
    "\n",
    "print(questions.loc[:2]['Question'])\n",
    "print()\n",
    "\n",
    "for i in range(6):\n",
    "    print(questions.loc[:2]['Option%d' % (i)])\n",
    "    print()"
   ]
  },
  {
   "cell_type": "code",
   "execution_count": 13,
   "metadata": {},
   "outputs": [
    {
     "name": "stderr",
     "output_type": "stream",
     "text": [
      "Building prefix dict from C:\\Users\\User\\Documents\\PythonWorkspace\\DeepLearningLabs\\datasets\\all\\big5_dict.txt ...\n",
      "Loading model from cache C:\\Users\\User\\AppData\\Local\\Temp\\jieba.u8c4f2ae115c5d1701ba45018e0a348ee.cache\n",
      "Loading model cost 0.606 seconds.\n",
      "Prefix dict has been built succesfully.\n"
     ]
    },
    {
     "name": "stdout",
     "output_type": "stream",
     "text": [
      "['我', '討厭', '吃', '蘋果']\n"
     ]
    }
   ],
   "source": [
    "import jieba\n",
    "\n",
    "jieba.set_dictionary('./datasets/all/big5_dict.txt')\n",
    "\n",
    "example_str = '我討厭吃蘋果'\n",
    "cut_example_str = jieba.lcut(example_str)\n",
    "print(cut_example_str)\n",
    "\n",
    "def jieba_lines(lines):\n",
    "    cut_lines = []\n",
    "    \n",
    "    for line in lines:\n",
    "        cut_line = jieba.lcut(line)\n",
    "        cut_lines.append(cut_line)\n",
    "    \n",
    "    return cut_lines"
   ]
  },
  {
   "cell_type": "code",
   "execution_count": 14,
   "metadata": {},
   "outputs": [
    {
     "name": "stdout",
     "output_type": "stream",
     "text": [
      "8 programs\n",
      "1299 episodes in program 0\n",
      "635 lines in first episode of program 0\n",
      "\n",
      "first 3 lines in 1st episode of program 0: \n",
      "[['還好', '天氣', '不錯'], ['昨天', '晚上', '的', '流星雨'], ['我', '看到', '很多', '流星']]\n"
     ]
    }
   ],
   "source": [
    "cut_programs = []\n",
    "\n",
    "for program in programs:\n",
    "    episodes = len(program)\n",
    "    cut_program = []\n",
    "    \n",
    "    for episode in range(episodes):\n",
    "        lines = program.loc[episode]['Content'].split('\\n')\n",
    "        cut_program.append(jieba_lines(lines))\n",
    "    \n",
    "    cut_programs.append(cut_program)\n",
    "    \n",
    "    \n",
    "print(\"%d programs\" % len(cut_programs))\n",
    "print(\"%d episodes in program 0\" % len(cut_programs[0]))\n",
    "print(\"%d lines in first episode of program 0\" % len(cut_programs[0][0]))\n",
    "\n",
    "print()\n",
    "print(\"first 3 lines in 1st episode of program 0: \")\n",
    "print(cut_programs[0][0][:3])"
   ]
  },
  {
   "cell_type": "code",
   "execution_count": 15,
   "metadata": {},
   "outputs": [
    {
     "name": "stdout",
     "output_type": "stream",
     "text": [
      "500 questions\n",
      "7\n",
      "[['媽給', '你', '送', '錢包', '來', '啦', ' ', '來', ' ', '你', '看', '一下', '是', '不', '是', '這個'], ['對', ' ', '就是', '這個', ' ', '你', '在', '哪裡', '找到', '它', '的'], []]\n",
      "['你', '看', ' ', '這是', '我', '新', '買', '的', '錢包']\n",
      "['我', '的', '錢包', '不見了', '啦']\n",
      "['以後', '上', '網咖', '的', '錢包', '在', '我', '身上']\n",
      "['什麼', '有', '錢包', '場']\n",
      "['早上', '你', '爸爸', '在', '車上', '找到', '的', ' ', '一定', '是', '前天', '你', '放學', '的', '時候', '掉', '在', '車上', '了']\n",
      "['我', '為什麼', '要給', '你們', '錢包']\n"
     ]
    }
   ],
   "source": [
    "cut_questions = []\n",
    "n = len(questions)\n",
    "\n",
    "for i in range(n):\n",
    "    cut_question = []\n",
    "    lines = questions.loc[i]['Question'].split('\\n')\n",
    "    cut_question.append(jieba_lines(lines))\n",
    "    \n",
    "    for j in range(6):\n",
    "        line = questions.loc[i]['Option%d' % (j)]\n",
    "        cut_question.append(jieba.lcut(line))\n",
    "    \n",
    "    cut_questions.append(cut_question)\n",
    "    \n",
    "    \n",
    "print(\"%d questions\" % len(cut_questions))\n",
    "print(len(cut_questions[0]))\n",
    "\n",
    "# 1 question\n",
    "print(cut_questions[0][0])\n",
    "\n",
    "# 6 optional reponses\n",
    "for i in range(1, 7):\n",
    "    print(cut_questions[0][i])"
   ]
  },
  {
   "cell_type": "code",
   "execution_count": 16,
   "metadata": {},
   "outputs": [],
   "source": [
    "import numpy as np\n",
    "\n",
    "np.save('cut_Programs.npy', cut_programs)\n",
    "np.save('cut_Questions.npy', cut_questions)\n",
    "\n",
    "cut_programs = np.load('cut_Programs.npy')\n",
    "cut_Question = np.load('cut_Questions.npy')"
   ]
  },
  {
   "cell_type": "code",
   "execution_count": 17,
   "metadata": {},
   "outputs": [
    {
     "name": "stdout",
     "output_type": "stream",
     "text": [
      "Total 174420 words in word_dict\n"
     ]
    }
   ],
   "source": [
    "word_dict = dict()\n",
    "def add_word_dict(w):\n",
    "    if not w in word_dict:\n",
    "        word_dict[w] = 1\n",
    "    else:\n",
    "        word_dict[w] += 1\n",
    "for program in cut_programs:\n",
    "    for lines in program:\n",
    "        for line in lines:\n",
    "            for w in line:\n",
    "                add_word_dict(w)\n",
    "for question in cut_questions:\n",
    "    lines = question[0]\n",
    "    for line in lines:\n",
    "        for w in line:\n",
    "            add_word_dict(w)\n",
    "    \n",
    "    for i in range(1, 7):\n",
    "        line = question[i]\n",
    "        for w in line:\n",
    "            add_word_dict(w)\n",
    "import operator\n",
    "\n",
    "word_dict = sorted(word_dict.items(), key=operator.itemgetter(1), reverse=True)\n",
    "print(\"Total %d words in word_dict\" % len(word_dict))"
   ]
  },
  {
   "cell_type": "code",
   "execution_count": 19,
   "metadata": {},
   "outputs": [
    {
     "name": "stdout",
     "output_type": "stream",
     "text": [
      "[('他', 81632), ('也', 77206), ('就是', 75579), ('說', 74281), ('來', 68735), ('會', 67933), ('那', 66863), ('喔', 61530), ('可以', 60268), ('跟', 60056)]\n",
      "\n",
      "Total 15000 words in voc_dict\n"
     ]
    }
   ],
   "source": [
    "VOC_SIZE = 15000\n",
    "VOC_START = 20\n",
    "\n",
    "voc_dict = word_dict[VOC_START:VOC_START+VOC_SIZE]\n",
    "print(voc_dict[:10])\n",
    "print()\n",
    "print(\"Total %d words in voc_dict\" % len(voc_dict))\n",
    "np.save('voc_dict.npy', voc_dict)\n",
    "voc_dict = np.load('voc_dict.npy')"
   ]
  },
  {
   "cell_type": "code",
   "execution_count": 20,
   "metadata": {},
   "outputs": [],
   "source": [
    "import random\n",
    "\n",
    "NUM_TRAIN = 10000\n",
    "TRAIN_VALID_RATE = 0.7\n",
    "def generate_training_data():\n",
    "    Xs, Ys = [], []\n",
    "    \n",
    "    for i in range(NUM_TRAIN):\n",
    "        pos_or_neg = random.randint(0, 1)\n",
    "        \n",
    "        if pos_or_neg==1:\n",
    "            program_id = random.randint(0, NUM_PROGRAM-1)\n",
    "            episode_id = random.randint(0, len(cut_programs[program_id])-1)\n",
    "            line_id = random.randint(0, len(cut_programs[program_id][episode_id])-2)\n",
    "            \n",
    "            Xs.append([cut_programs[program_id][episode_id][line_id], \n",
    "                       cut_programs[program_id][episode_id][line_id+1]])\n",
    "            Ys.append(1)\n",
    "            \n",
    "        else:\n",
    "            first_program_id = random.randint(0, NUM_PROGRAM-1)\n",
    "            first_episode_id = random.randint(0, len(cut_programs[first_program_id])-1)\n",
    "            first_line_id = random.randint(0, len(cut_programs[first_program_id][first_episode_id])-1)\n",
    "            \n",
    "            second_program_id = random.randint(0, NUM_PROGRAM-1)\n",
    "            second_episode_id = random.randint(0, len(cut_programs[second_program_id])-1)\n",
    "            second_line_id = random.randint(0, len(cut_programs[second_program_id][second_episode_id])-1)\n",
    "            \n",
    "            Xs.append([cut_programs[first_program_id][first_episode_id][first_line_id], \n",
    "                       cut_programs[second_program_id][second_episode_id][second_line_id]])\n",
    "            Ys.append(0)\n",
    "    \n",
    "    return Xs, Ys\n",
    "Xs, Ys = generate_training_data()\n",
    "\n",
    "x_train, y_train = Xs[:int(NUM_TRAIN*TRAIN_VALID_RATE)], Ys[:int(NUM_TRAIN*TRAIN_VALID_RATE)]\n",
    "x_valid, y_valid = Xs[int(NUM_TRAIN*TRAIN_VALID_RATE):], Ys[int(NUM_TRAIN*TRAIN_VALID_RATE):]"
   ]
  },
  {
   "cell_type": "code",
   "execution_count": 21,
   "metadata": {},
   "outputs": [
    {
     "name": "stdout",
     "output_type": "stream",
     "text": [
      "['還好 天氣 不錯 ', '昨天 晚上 ', '看到 很多 流星 ', '這次 收穫 真 豐富 ', '當然 豐富 啦 ', '說 嘛 ', '精心 製作 ', '被 一個 人 吃掉 ', '真的 嗎 ', '不要 忘記 做 秘密 檔案 ']\n"
     ]
    }
   ],
   "source": [
    "example_doc = []\n",
    "\n",
    "# lines in 1st episode in program 0 \n",
    "for line in cut_programs[0][0]:\n",
    "    example_line = ''\n",
    "    for w in line:\n",
    "        if w in voc_dict:\n",
    "            example_line += w+' '\n",
    "        \n",
    "    example_doc.append(example_line)\n",
    "\n",
    "print(example_doc[:10])"
   ]
  },
  {
   "cell_type": "code",
   "execution_count": null,
   "metadata": {},
   "outputs": [],
   "source": []
  },
  {
   "cell_type": "code",
   "execution_count": null,
   "metadata": {},
   "outputs": [],
   "source": []
  },
  {
   "cell_type": "code",
   "execution_count": null,
   "metadata": {},
   "outputs": [],
   "source": []
  },
  {
   "cell_type": "code",
   "execution_count": null,
   "metadata": {},
   "outputs": [],
   "source": []
  }
 ],
 "metadata": {
  "kernelspec": {
   "display_name": "Python 3",
   "language": "python",
   "name": "python3"
  },
  "language_info": {
   "codemirror_mode": {
    "name": "ipython",
    "version": 3
   },
   "file_extension": ".py",
   "mimetype": "text/x-python",
   "name": "python",
   "nbconvert_exporter": "python",
   "pygments_lexer": "ipython3",
   "version": "3.6.5"
  }
 },
 "nbformat": 4,
 "nbformat_minor": 2
}
