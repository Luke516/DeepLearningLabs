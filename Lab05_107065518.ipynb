{
 "cells": [
  {
   "cell_type": "markdown",
   "metadata": {},
   "source": [
    "### 1. Self defined classification model (Adaline with GD and SGD) ###"
   ]
  },
  {
   "cell_type": "code",
   "execution_count": 1,
   "metadata": {},
   "outputs": [],
   "source": [
    "class AdalineGD(object):\n",
    "    \"\"\"ADAptive LInear NEuron classifier.\n",
    "\n",
    "    Parameters\n",
    "    ------------\n",
    "    eta : float\n",
    "        Learning rate (between 0.0 and 1.0)\n",
    "    n_iter : int\n",
    "        Passes over the training dataset.\n",
    "    random_state : int\n",
    "        The seed of the pseudo random number generator.\n",
    "\n",
    "    Attributes\n",
    "    -----------\n",
    "    w_ : 1d-array\n",
    "        Weights after fitting.\n",
    "    errors_ : list\n",
    "        Number of misclassifications in every epoch.\n",
    "\n",
    "    \"\"\"\n",
    "    def __init__(self, eta=0.01, n_iter=50, random_state=1):\n",
    "        self.eta = eta\n",
    "        self.n_iter = n_iter\n",
    "        self.random_state = random_state\n",
    "\n",
    "    def fit(self, X, y):\n",
    "        \"\"\" Fit training data.\n",
    "\n",
    "        Parameters\n",
    "        ----------\n",
    "        X : {array-like}, shape = [n_samples, n_features]\n",
    "            Training vectors, where n_samples is the number of samples and\n",
    "            n_features is the number of features.\n",
    "        y : array-like, shape = [n_samples]\n",
    "            Target values.\n",
    "\n",
    "        Returns\n",
    "        -------\n",
    "        self : object\n",
    "\n",
    "        \"\"\"\n",
    "        rgen = np.random.RandomState(self.random_state)\n",
    "        self.w_ = rgen.normal(loc=0.0, scale=0.01, size=1 + X.shape[1])\n",
    "        self.cost_ = []\n",
    "\n",
    "        for i in range(self.n_iter):\n",
    "            output = self.activation(X)\n",
    "            errors = (y - output)\n",
    "            self.w_[1:] += self.eta * X.T.dot(errors)\n",
    "            self.w_[0] += self.eta * errors.sum()\n",
    "            cost = (errors**2).sum() / 2.0\n",
    "            self.cost_.append(cost)\n",
    "        return self\n",
    "\n",
    "    def net_input(self, X):\n",
    "        \"\"\"Calculate net input\"\"\"\n",
    "        return np.dot(X, self.w_[1:]) + self.w_[0]\n",
    "\n",
    "    def activation(self, X):\n",
    "        \"\"\"Compute linear activation\"\"\"\n",
    "        return self.net_input(X)\n",
    "\n",
    "    def predict(self, X):\n",
    "        \"\"\"Return class label after unit step\"\"\"\n",
    "        return np.where(self.activation(X) >= 0.0, 1, -1)"
   ]
  },
  {
   "cell_type": "code",
   "execution_count": 2,
   "metadata": {},
   "outputs": [],
   "source": [
    "from numpy.random import seed\n",
    "\n",
    "class AdalineSGD(object):\n",
    "    \"\"\"ADAptive LInear NEuron classifier.\n",
    "\n",
    "    Parameters\n",
    "    ------------\n",
    "    eta : float\n",
    "        Learning rate (between 0.0 and 1.0)\n",
    "    n_iter : int\n",
    "        Passes over the training dataset.\n",
    "\n",
    "    Attributes\n",
    "    -----------\n",
    "    w_ : 1d-array\n",
    "        Weights after fitting.\n",
    "    errors_ : list\n",
    "        Number of misclassifications in every epoch.\n",
    "    shuffle : bool (default: True)\n",
    "        Shuffles training data every epoch if True to prevent cycles.\n",
    "    random_state : int\n",
    "        Set random state for shuffling and initializing the weights.\n",
    "        \n",
    "    \"\"\"\n",
    "    def __init__(self, eta=0.01, n_iter=50, shuffle=True, random_state=1, m=1):\n",
    "        self.eta = eta\n",
    "        self.n_iter = n_iter\n",
    "        self.w_initialized = False\n",
    "        self.shuffle = shuffle\n",
    "        self.m = m\n",
    "        if random_state:\n",
    "            seed(random_state)\n",
    "        \n",
    "    def fit(self, X, y):\n",
    "        \"\"\" Fit training data.\n",
    "\n",
    "        Parameters\n",
    "        ----------\n",
    "        X : {array-like}, shape = [n_samples, n_features]\n",
    "            Training vectors, where n_samples is the number of samples and\n",
    "            n_features is the number of features.\n",
    "        y : array-like, shape = [n_samples]\n",
    "            Target values.\n",
    "\n",
    "        Returns\n",
    "        -------\n",
    "        self : object\n",
    "\n",
    "        \"\"\"\n",
    "        self._initialize_weights(X.shape[1])\n",
    "        self.cost_ = []\n",
    "        for i in range(self.n_iter):\n",
    "            if self.shuffle:\n",
    "                X, y = self._shuffle(X, y)\n",
    "            \n",
    "            batches_X = [X[k:k+self.m] for k in range(0,len(X),self.m)]\n",
    "            batches_y = [y[k:k+self.m] for k in range(0,len(y),self.m)]\n",
    "            cost = []\n",
    "            for xi, target in zip(batches_X, batches_y):\n",
    "                #print(xi, target)\n",
    "                #self.update_mini_batch(mini_batch, eta)\n",
    "                cost.append(self._update_weights(xi, target))\n",
    "                \n",
    "            #for xi, target in zip(X, y):\n",
    "                #cost.append(self._update_weights(xi, target))\n",
    "            #print(sum(cost))\n",
    "            avg_cost = sum(cost) / len(y)\n",
    "            self.cost_.append(avg_cost)\n",
    "        return self\n",
    "\n",
    "    def _shuffle(self, X, y):\n",
    "        \"\"\"Shuffle training data\"\"\"\n",
    "        r = np.random.permutation(len(y))\n",
    "        return X[r], y[r]\n",
    "    \n",
    "    def _initialize_weights(self, m):\n",
    "        \"\"\"Randomly initialize weights\"\"\"\n",
    "        self.w_ = np.random.normal(loc=0.0, scale=0.01, size=1 + m)\n",
    "        self.w_initialized = True\n",
    "        \n",
    "    def _update_weights(self, xi, target):\n",
    "        \"\"\"Apply Adaline learning rule to update the weights\"\"\"\n",
    "        output = self.activation(xi)\n",
    "        error = (target.ravel() - output)\n",
    "        #print(self.w_[1:].shape)\n",
    "        #print(target.shape)\n",
    "        #print(output.shape)\n",
    "        #print(error.shape)\n",
    "        self.w_[1:] += self.eta * xi.T.dot(error)\n",
    "        self.w_[0] += self.eta * error.sum()\n",
    "        cost = 0.5 * (error**2).sum()\n",
    "        #print(cost)\n",
    "        return cost\n",
    "    \n",
    "    def net_input(self, X):\n",
    "        \"\"\"Calculate net input\"\"\"\n",
    "        return np.dot(X, self.w_[1:]) + self.w_[0]\n",
    "\n",
    "    def activation(self, X):\n",
    "        \"\"\"Compute linear activation\"\"\"\n",
    "        return self.net_input(X)\n",
    "\n",
    "    def predict(self, X):\n",
    "        \"\"\"Return class label after unit step\"\"\"\n",
    "        return np.where(self.activation(X) >= 0.0, 1, -1)\n",
    "\n",
    "    def partial_fit(self, X, y):\n",
    "        \"\"\"Fit training data without reinitializing the weights\"\"\"\n",
    "        if not self.w_initialized:\n",
    "            self._initialize_weights(X.shape[1])\n",
    "        if y.ravel().shape[0] > 1:\n",
    "            for xi, target in zip(X, y):\n",
    "                self._update_weights(xi, target)\n",
    "        else:\n",
    "            self._update_weights(X, y)\n",
    "        return self"
   ]
  },
  {
   "cell_type": "markdown",
   "metadata": {},
   "source": [
    "### 2. Load dataset ###"
   ]
  },
  {
   "cell_type": "code",
   "execution_count": 3,
   "metadata": {},
   "outputs": [],
   "source": [
    "# Do not modify\n",
    "import pandas as pd\n",
    "import numpy as np\n",
    "import matplotlib.pyplot as plt\n",
    "from IPython.display import Image\n",
    "from sklearn.model_selection import train_test_split\n",
    "\n",
    "X = pd.read_csv('./datasets/nba/X_train.csv')\n",
    "y = pd.read_csv('./datasets/nba/y_train.csv')\n",
    "X_test = pd.read_csv('./datasets/nba/X_test.csv')\n",
    "\n",
    "def pd2np(df):\n",
    "    return df.values\n",
    "X_train = pd2np(X)\n",
    "y_train = pd2np(y)\n",
    "X_test = pd2np(X_test)\n",
    "\n",
    "X_train, X_valid, y_train, y_valid = train_test_split(\n",
    "        X_train, y_train, test_size=0.3, random_state=0)"
   ]
  },
  {
   "cell_type": "markdown",
   "metadata": {},
   "source": [
    "### 3.Linear and Polynominal Adaline ###\n",
    "\n",
    "First, I tried the basic self-written adaline model, with both linear and polynominal features.   \n",
    "However, the result shows less than 0.5 accuracy, which is not good."
   ]
  },
  {
   "cell_type": "code",
   "execution_count": 17,
   "metadata": {},
   "outputs": [
    {
     "name": "stdout",
     "output_type": "stream",
     "text": [
      "AdalineSGD Accuracy: 0.46\n",
      "AdalineSGD (poly=2) Accuracy: 0.46\n",
      "AdalineSGD (poly=3) Accuracy: 0.46\n",
      "AdalineSGD (poly=4) Accuracy: 0.45\n"
     ]
    }
   ],
   "source": [
    "from sklearn.preprocessing import StandardScaler\n",
    "from sklearn.metrics import r2_score\n",
    "from sklearn.metrics import mean_squared_error\n",
    "from sklearn.linear_model import LinearRegression\n",
    "from sklearn.preprocessing import PolynomialFeatures\n",
    "from sklearn.metrics import accuracy_score\n",
    "import matplotlib.pyplot as plt\n",
    "\n",
    "\n",
    "sc = StandardScaler()\n",
    "X_train_std = sc.fit_transform(X_train)\n",
    "X_valid_std = sc.transform(X_valid)\n",
    "\n",
    "adas = AdalineSGD(n_iter=20, eta=0.000001, random_state=11, m=10, shuffle=True)\n",
    "adas.fit(X_train_std, y_train)\n",
    "\n",
    "# testing accuracy\n",
    "y_pred = adas.predict(X_valid_std)\n",
    "print('AdalineSGD Accuracy: %.2f' % accuracy_score(y_valid, y_pred))\n",
    "\n",
    "for d in [2,3,4]:\n",
    "    penta = PolynomialFeatures(degree=d)\n",
    "\n",
    "    X_penta_train = penta.fit_transform(X_train_std)\n",
    "    X_penta_valid = penta.transform(X_valid_std)\n",
    "    X_penta_train_std = sc.fit_transform(X_penta_train)\n",
    "    X_penta_valid_std = sc.transform(X_penta_valid)\n",
    "    adas.fit(X_penta_train_std, y_train)\n",
    "    y_pred = adas.predict(X_penta_valid_std)\n",
    "    print('AdalineSGD (poly=%d) Accuracy: %.2f' % (d, accuracy_score(y_valid, y_pred)))"
   ]
  },
  {
   "cell_type": "markdown",
   "metadata": {},
   "source": [
    "### 4. SGD classifier and Logistic classifier with sklearn ###\n",
    "\n",
    "Next, I tried some classic classification model using sklearn. (including SGD classifier and logistic classifier)  \n",
    "Both models provides about 0.5~0.6 accuracy, and logistic regression model with polynominal features is the best among these."
   ]
  },
  {
   "cell_type": "code",
   "execution_count": 18,
   "metadata": {},
   "outputs": [
    {
     "name": "stderr",
     "output_type": "stream",
     "text": [
      "D:\\Users\\User\\Anaconda3\\lib\\site-packages\\sklearn\\linear_model\\stochastic_gradient.py:128: FutureWarning: max_iter and tol parameters have been added in <class 'sklearn.linear_model.stochastic_gradient.SGDClassifier'> in 0.19. If both are left unset, they default to max_iter=5 and tol=None. If tol is not None, max_iter defaults to max_iter=1000. From 0.21, default max_iter will be 1000, and default tol will be 1e-3.\n",
      "  \"and default tol will be 1e-3.\" % type(self), FutureWarning)\n",
      "D:\\Users\\User\\Anaconda3\\lib\\site-packages\\sklearn\\utils\\validation.py:578: DataConversionWarning: A column-vector y was passed when a 1d array was expected. Please change the shape of y to (n_samples, ), for example using ravel().\n",
      "  y = column_or_1d(y, warn=True)\n"
     ]
    },
    {
     "name": "stdout",
     "output_type": "stream",
     "text": [
      "sklearn SGD Accuracy: 0.59\n",
      "sklearn SGD (poly=2) Accuracy: 0.57\n",
      "sklearn SGD (poly=3) Accuracy: 0.54\n",
      "logistic regression Accuracy: 0.61\n",
      "logistic regression (poly=2) Accuracy: 0.62\n",
      "logistic regression (poly=3) Accuracy: 0.62\n"
     ]
    }
   ],
   "source": [
    "from sklearn.linear_model import SGDClassifier\n",
    "from sklearn.linear_model import LogisticRegression\n",
    "\n",
    "adas = SGDClassifier()\n",
    "adas.fit(X_train_std, y_train)\n",
    "\n",
    "# testing accuracy\n",
    "y_pred = adas.predict(X_valid_std)\n",
    "print('sklearn SGD Accuracy: %.2f' % accuracy_score(y_valid, y_pred))\n",
    "\n",
    "#========================================================\n",
    "for d in [2,3]:\n",
    "    penta = PolynomialFeatures(degree=d)\n",
    "\n",
    "    X_penta_train = penta.fit_transform(X_train_std)\n",
    "    X_penta_valid = penta.transform(X_valid_std)\n",
    "    X_penta_train_std = sc.fit_transform(X_penta_train)\n",
    "    X_penta_valid_std = sc.transform(X_penta_valid)\n",
    "    adas.fit(X_penta_train_std, y_train)\n",
    "    y_pred = adas.predict(X_penta_valid_std)\n",
    "    print('sklearn SGD (poly=%d) Accuracy: %.2f' % (d, accuracy_score(y_valid, y_pred)))\n",
    "\n",
    "#==========================================================\n",
    "\n",
    "lr = LogisticRegression(C=1000.0, random_state=0)\n",
    "lr.fit(X_train_std, y_train)\n",
    "\n",
    "# testing accuracy\n",
    "y_pred = lr.predict(X_valid_std)\n",
    "print('logistic regression Accuracy: %.2f' % accuracy_score(y_valid, y_pred))\n",
    "\n",
    "#========================================================\n",
    "for d in [2,3]:\n",
    "    penta = PolynomialFeatures(degree=d)\n",
    "\n",
    "    X_penta_train = penta.fit_transform(X_train_std)\n",
    "    X_penta_valid = penta.transform(X_valid_std)\n",
    "    X_penta_train_std = sc.fit_transform(X_penta_train)\n",
    "    X_penta_valid_std = sc.transform(X_penta_valid)\n",
    "    lr.fit(X_penta_train_std, y_train)\n",
    "    y_pred = lr.predict(X_penta_valid_std)\n",
    "    print('logistic regression (poly=%d) Accuracy: %.2f' % (d, accuracy_score(y_valid, y_pred)))\n"
   ]
  },
  {
   "cell_type": "markdown",
   "metadata": {},
   "source": [
    "### 5.Random forest ### \n",
    "\n",
    "In addition, I tried using random forest classifier, it provides about 0.6 accuracy"
   ]
  },
  {
   "cell_type": "code",
   "execution_count": 19,
   "metadata": {},
   "outputs": [
    {
     "name": "stderr",
     "output_type": "stream",
     "text": [
      "D:\\Users\\User\\Anaconda3\\lib\\site-packages\\ipykernel_launcher.py:7: DataConversionWarning: A column-vector y was passed when a 1d array was expected. Please change the shape of y to (n_samples,), for example using ravel().\n",
      "  import sys\n"
     ]
    },
    {
     "name": "stdout",
     "output_type": "stream",
     "text": [
      "Accuracy (forest): 0.60\n"
     ]
    }
   ],
   "source": [
    "from sklearn.ensemble import RandomForestClassifier\n",
    "\n",
    "forest = RandomForestClassifier(criterion='entropy',\n",
    "                                n_estimators=200, \n",
    "                                random_state=1,\n",
    "                                n_jobs=2)\n",
    "forest.fit(X_train, y_train)\n",
    "\n",
    "y_pred = forest.predict(X_valid)\n",
    "print('Accuracy (forest): %.2f' % accuracy_score(y_valid, y_pred))\n"
   ]
  },
  {
   "cell_type": "markdown",
   "metadata": {},
   "source": [
    "### 6. Feature selection ### \n",
    "\n",
    "Base on the previos result of random forest,  \n",
    "I plot the importance of the features in order to do feature selection."
   ]
  },
  {
   "cell_type": "code",
   "execution_count": 9,
   "metadata": {},
   "outputs": [
    {
     "name": "stdout",
     "output_type": "stream",
     "text": [
      " 1) GAME_CLOCK                     0.200453\n",
      " 2) SHOT_DIST                      0.200179\n",
      " 3) SHOT_CLOCK                     0.177025\n",
      " 4) CLOSE_DEF_DIST                 0.173898\n",
      " 5) TOUCH_TIME                     0.140622\n",
      " 6) PERIOD                         0.052434\n",
      " 7) DRIBBLES                       0.048234\n",
      " 8) PTS_TYPE                       0.007156\n"
     ]
    },
    {
     "data": {
      "image/png": "[encoded data removed]",
      "text/plain": [
       "<Figure size 432x288 with 1 Axes>"
      ]
     },
     "metadata": {},
     "output_type": "display_data"
    }
   ],
   "source": [
    "# inline plotting instead of popping out\n",
    "%matplotlib inline\n",
    "\n",
    "import numpy as np\n",
    "import matplotlib.pyplot as plt\n",
    "\n",
    "importances = forest.feature_importances_\n",
    "# get sort indices in descending order\n",
    "indices = np.argsort(importances)[::-1]\n",
    "\n",
    "for f in range(X_train.shape[1]):\n",
    "    print(\"%2d) %-*s %f\" % (f + 1, 30, \n",
    "                            X.columns.values[indices[f]], \n",
    "                            importances[indices[f]]))\n",
    "\n",
    "plt.figure()\n",
    "plt.title('Feature Importances')\n",
    "plt.bar(range(X_train.shape[1]),\n",
    "        importances[indices],\n",
    "        align='center',\n",
    "        alpha=0.5)\n",
    "\n",
    "plt.xticks(range(X_train.shape[1]), \n",
    "           X.columns.values[indices], rotation=90)\n",
    "plt.xlim([-1, X_train.shape[1]])\n",
    "plt.tight_layout()\n",
    "plt.savefig('./output/fig-forest-feature-importances.png', dpi=300)\n",
    "plt.show()"
   ]
  },
  {
   "cell_type": "markdown",
   "metadata": {},
   "source": [
    "### 7.Training with selected features ###\n",
    "\n",
    "According to the previous result, I select three features : GAME_CLOCK, SHOT_DIST and SHOT_CLOCK.  \n",
    "Then I evaluate three models : AdalineSGD, logistc regression and random forest to compare the results.   \n",
    "Still, the logistc regression model gives the best accuracy"
   ]
  },
  {
   "cell_type": "code",
   "execution_count": 21,
   "metadata": {},
   "outputs": [
    {
     "name": "stdout",
     "output_type": "stream",
     "text": [
      "AdalineSGD Accuracy: 0.46\n",
      "Logistic Regression Accuracy: 0.60\n"
     ]
    },
    {
     "name": "stderr",
     "output_type": "stream",
     "text": [
      "D:\\Users\\User\\Anaconda3\\lib\\site-packages\\sklearn\\utils\\validation.py:578: DataConversionWarning: A column-vector y was passed when a 1d array was expected. Please change the shape of y to (n_samples, ), for example using ravel().\n",
      "  y = column_or_1d(y, warn=True)\n"
     ]
    },
    {
     "name": "stdout",
     "output_type": "stream",
     "text": [
      "Random Forest Accuracy: 0.54\n"
     ]
    }
   ],
   "source": [
    "X2 = X[['GAME_CLOCK', 'SHOT_DIST','SHOT_CLOCK']].values\n",
    "\n",
    "\n",
    "X_train, X_valid, y_train, y_valid = train_test_split(\n",
    "        X2, y.values, test_size=0.3, random_state=0)\n",
    "\n",
    "sc = StandardScaler()\n",
    "X_train_std = sc.fit_transform(X_train)\n",
    "X_valid_std = sc.transform(X_valid)\n",
    "\n",
    "#==============================================\n",
    "\n",
    "adas = AdalineSGD(n_iter=20, eta=0.001, random_state=1, m=1, shuffle=True)\n",
    "adas.fit(X_train_std, y_train)\n",
    "y_pred = adas.predict(X_valid_std)\n",
    "print('AdalineSGD Accuracy: %.2f' % accuracy_score(y_valid, y_pred))\n",
    "\n",
    "#==============================================\n",
    "\n",
    "lr = LogisticRegression(C=1000.0, random_state=0)\n",
    "lr.fit(X_train_std, y_train)\n",
    "y_pred = lr.predict(X_valid_std)\n",
    "print('Logistic Regression Accuracy: %.2f' % accuracy_score(y_valid, y_pred))\n",
    "\n",
    "#==============================================\n",
    "\n",
    "forest.fit(X_train_std, y_train)\n",
    "y_pred = forest.predict(X_valid)\n",
    "print('Random Forest Accuracy: %.2f' % accuracy_score(y_valid, y_pred))"
   ]
  },
  {
   "cell_type": "markdown",
   "metadata": {},
   "source": [
    "### 8.Learning curve ###\n",
    "\n",
    "Base on previous expirements, I select Logistic Regression model, which performs best, to plot the learning curve"
   ]
  },
  {
   "cell_type": "code",
   "execution_count": 22,
   "metadata": {},
   "outputs": [
    {
     "data": {
      "image/png": "[encoded data removed]",
      "text/plain": [
       "<Figure size 432x288 with 1 Axes>"
      ]
     },
     "metadata": {},
     "output_type": "display_data"
    }
   ],
   "source": [
    "from sklearn.model_selection import learning_curve\n",
    "\n",
    "def mse(model, X, y):\n",
    "    return ((model.predict(X) - y)**2).mean()\n",
    "\n",
    "lr = LogisticRegression()\n",
    "train_sizes, train_scores, test_scores = learning_curve(estimator=lr, X=X2, y=y.values.ravel(), shuffle=True,\n",
    "                                                        scoring=mse, train_sizes=[10,50,100,150,200])\n",
    "\n",
    "train_mean = np.mean(train_scores, axis=1)\n",
    "train_std = np.std(train_scores, axis=1)\n",
    "test_mean = np.mean(test_scores, axis=1)\n",
    "test_std = np.std(test_scores, axis=1)\n",
    "\n",
    "plt.plot(train_sizes, train_mean,\n",
    "    color='blue', marker='o',\n",
    "    markersize=5,\n",
    "    label='Training error')\n",
    "plt.fill_between(train_sizes,\n",
    "    train_mean+train_std,\n",
    "    train_mean-train_std,\n",
    "    alpha=0.15, color='blue')\n",
    "\n",
    "plt.plot(train_sizes, test_mean,\n",
    "    color='green', linestyle='--',\n",
    "    marker='s', markersize=5,\n",
    "    label='Testing error')\n",
    "plt.fill_between(train_sizes,\n",
    "    test_mean+test_std,\n",
    "    test_mean-test_std,\n",
    "    alpha=0.15, color='green')\n",
    "\n",
    "plt.hlines(y=0.4, xmin=0, xmax=200, color='red', linewidth=2, linestyle='--')\n",
    "\n",
    "plt.title('Learning curve of lr model')\n",
    "plt.grid()\n",
    "plt.xlabel('Number of training samples')\n",
    "plt.ylabel('MSE')\n",
    "plt.legend(loc='upper right')\n",
    "plt.ylim([0, 1])\n",
    "plt.tight_layout()\n",
    "plt.show()"
   ]
  },
  {
   "cell_type": "markdown",
   "metadata": {},
   "source": [
    "As we can see in the figure, the model did not over-fit. Since the training error and the testing error are about the same."
   ]
  },
  {
   "cell_type": "markdown",
   "metadata": {},
   "source": [
    "### 9. Predict testing data ###\n",
    "\n",
    "Finally, I use the logistic regression model to predict the testing data, and stored in a CSV file."
   ]
  },
  {
   "cell_type": "code",
   "execution_count": null,
   "metadata": {},
   "outputs": [],
   "source": []
  }
 ],
 "metadata": {
  "kernelspec": {
   "display_name": "Python 3",
   "language": "python",
   "name": "python3"
  },
  "language_info": {
   "codemirror_mode": {
    "name": "ipython",
    "version": 3
   },
   "file_extension": ".py",
   "mimetype": "text/x-python",
   "name": "python",
   "nbconvert_exporter": "python",
   "pygments_lexer": "ipython3",
   "version": "3.6.5"
  }
 },
 "nbformat": 4,
 "nbformat_minor": 2
}
