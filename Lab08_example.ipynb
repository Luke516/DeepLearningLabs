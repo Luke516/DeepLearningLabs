{
 "cells": [
  {
   "cell_type": "code",
   "execution_count": 1,
   "metadata": {},
   "outputs": [],
   "source": [
    "from IPython.display import Image\n",
    "from IPython.display import display\n",
    "import pandas as pd\n",
    "import numpy as np\n",
    "import matplotlib.pyplot as plt\n",
    "\n",
    "# inline plotting instead of popping out\n",
    "%matplotlib inline\n",
    "\n",
    "# load utility classes/functions that has been taught in previous labs\n",
    "# e.g., plot_decision_regions()\n",
    "import os, sys\n",
    "module_path = os.path.abspath(os.path.join('.'))\n",
    "sys.path.append(module_path)\n",
    "from lib import *"
   ]
  },
  {
   "cell_type": "code",
   "execution_count": 2,
   "metadata": {},
   "outputs": [],
   "source": [
    "from sklearn.datasets import load_iris\n",
    "from sklearn.model_selection import train_test_split\n",
    "from sklearn.preprocessing import StandardScaler\n",
    "import numpy as np\n",
    "\n",
    "iris = load_iris()\n",
    "X, y = iris.data[:,[1,2]], iris.target\n",
    "\n",
    "# hold out testing set\n",
    "X_train, X_test, y_train, y_test = train_test_split(X, y, test_size=0.3, random_state=0)\n",
    "# hold out validation set\n",
    "X_train, X_val, y_train, y_val = train_test_split(X_train, y_train, test_size=0.3, random_state=0)"
   ]
  },
  {
   "cell_type": "code",
   "execution_count": 3,
   "metadata": {},
   "outputs": [
    {
     "name": "stdout",
     "output_type": "stream",
     "text": [
      "[1-NN]\n",
      "Validation accuracy: 0.9375\n",
      "[15-NN]\n",
      "Validation accuracy: 0.90625\n",
      "[50-NN]\n",
      "Validation accuracy: 0.4375\n",
      "\n",
      "Test accuracy: 0.89 (n_neighbors=1 selected by the holdout method)\n"
     ]
    }
   ],
   "source": [
    "from sklearn.pipeline import Pipeline\n",
    "from sklearn.neighbors import KNeighborsClassifier\n",
    "from sklearn.metrics import accuracy_score\n",
    "\n",
    "best_k, best_score = -1, -1\n",
    "clfs = {}\n",
    "\n",
    "# hyperparameter tuning\n",
    "for k in [1, 15, 50]: \n",
    "    pipe = Pipeline([['sc', StandardScaler()], ['clf', KNeighborsClassifier(n_neighbors=k)]])\n",
    "    pipe.fit(X_train, y_train)\n",
    "    y_pred = pipe.predict(X_val)\n",
    "    score = accuracy_score(y_val, y_pred)\n",
    "    print('[{}-NN]\\nValidation accuracy: {}'.format(k, score))\n",
    "    if score > best_score:\n",
    "        best_k, best_score = k, score\n",
    "    clfs[k] = pipe\n",
    "    \n",
    "# performance reporting\n",
    "y_pred= clfs[best_k].predict(X_test)\n",
    "print('\\nTest accuracy: %.2f (n_neighbors=%d selected by the holdout method)' % \n",
    "      (accuracy_score(y_test, y_pred), best_k))"
   ]
  },
  {
   "cell_type": "code",
   "execution_count": 4,
   "metadata": {},
   "outputs": [
    {
     "name": "stdout",
     "output_type": "stream",
     "text": [
      "Test accuracy: 0.91 (n_neighbors=15 selected manually)\n"
     ]
    }
   ],
   "source": [
    "y_pred= clfs[15].predict(X_test)\n",
    "print('Test accuracy: %.2f (n_neighbors=15 selected manually)' % \n",
    "      accuracy_score(y_test, y_pred))"
   ]
  },
  {
   "cell_type": "code",
   "execution_count": null,
   "metadata": {},
   "outputs": [],
   "source": []
  }
 ],
 "metadata": {
  "kernelspec": {
   "display_name": "Python 3",
   "language": "python",
   "name": "python3"
  },
  "language_info": {
   "codemirror_mode": {
    "name": "ipython",
    "version": 3
   },
   "file_extension": ".py",
   "mimetype": "text/x-python",
   "name": "python",
   "nbconvert_exporter": "python",
   "pygments_lexer": "ipython3",
   "version": "3.6.5"
  }
 },
 "nbformat": 4,
 "nbformat_minor": 2
}
